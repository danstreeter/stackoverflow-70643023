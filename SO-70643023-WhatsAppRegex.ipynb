{
 "cells": [
  {
   "cell_type": "code",
   "execution_count": 46,
   "metadata": {},
   "outputs": [],
   "source": [
    "import re\n",
    "import pandas as pd"
   ]
  },
  {
   "cell_type": "code",
   "execution_count": 47,
   "metadata": {},
   "outputs": [],
   "source": [
    "f = open('gezin.txt', 'r', encoding='utf-8')"
   ]
  },
  {
   "cell_type": "code",
   "execution_count": 48,
   "metadata": {},
   "outputs": [],
   "source": [
    "data = f.read()"
   ]
  },
  {
   "cell_type": "code",
   "execution_count": 51,
   "metadata": {},
   "outputs": [
    {
     "name": "stdout",
     "output_type": "stream",
     "text": [
      "[14-01-2004 01:44:23] I did something\n",
      "[09-01-2022 16:20:00] I wrote this notebook for finios\n"
     ]
    }
   ],
   "source": [
    "print(data)"
   ]
  },
  {
   "cell_type": "code",
   "execution_count": 50,
   "metadata": {},
   "outputs": [
    {
     "name": "stdout",
     "output_type": "stream",
     "text": [
      "['[14-01-2004 01:44:23]', ' I did something\\n', '[09-01-2022 16:20:00]', ' I wrote this notebook for finios']\n"
     ]
    }
   ],
   "source": [
    "pattern = '(\\[[0-3]{1}[0-9]{1}-[0-1]{1}[0-9]{1}-\\d{4}\\s[[0-2]{1}[0-9]{1}:[0-5]{1}[0-9]{1}:[0-5]{1}[0-9]{1}\\])'\n",
    "something = re.split(pattern, data)[1:]\n",
    "\n",
    "print(something)"
   ]
  },
  {
   "cell_type": "markdown",
   "metadata": {},
   "source": []
  },
  {
   "cell_type": "code",
   "execution_count": 45,
   "metadata": {},
   "outputs": [
    {
     "name": "stdout",
     "output_type": "stream",
     "text": [
      "['[14-01-2004 01:44:23]', '[09-01-2022 16:20:00]']\n"
     ]
    }
   ],
   "source": [
    "datums = re.findall(pattern, data)\n",
    "print(datums)"
   ]
  },
  {
   "cell_type": "markdown",
   "metadata": {},
   "source": [
    "## Example using loop slice"
   ]
  },
  {
   "cell_type": "code",
   "execution_count": 52,
   "metadata": {},
   "outputs": [
    {
     "name": "stdout",
     "output_type": "stream",
     "text": [
      "[14-01-2004 01:44:23]\n",
      "[09-01-2022 16:20:00]\n"
     ]
    }
   ],
   "source": [
    "with open('gezin.txt', 'r') as opened_file:\n",
    "    for line in opened_file:\n",
    "        print(line[0:21])"
   ]
  }
 ],
 "metadata": {
  "interpreter": {
   "hash": "b244d05da5e2b5f1b315a0f25156a87b962ad29962c41611cd294b84b08a90fd"
  },
  "kernelspec": {
   "display_name": "Python 3.9.9 64-bit ('.venv': pipenv)",
   "language": "python",
   "name": "python3"
  },
  "language_info": {
   "codemirror_mode": {
    "name": "ipython",
    "version": 3
   },
   "file_extension": ".py",
   "mimetype": "text/x-python",
   "name": "python",
   "nbconvert_exporter": "python",
   "pygments_lexer": "ipython3",
   "version": "3.9.9"
  },
  "orig_nbformat": 4
 },
 "nbformat": 4,
 "nbformat_minor": 2
}
